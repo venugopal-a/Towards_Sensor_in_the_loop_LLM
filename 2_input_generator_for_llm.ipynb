{
 "cells": [
  {
   "cell_type": "code",
   "execution_count": 1,
   "id": "9dd35c26",
   "metadata": {},
   "outputs": [],
   "source": [
    "import json\n",
    "\n",
    "def save_user_trends(json_path, user_number, output_path):\n",
    "    # Load the full JSON data\n",
    "    with open(json_path, 'r') as f:\n",
    "        data = json.load(f)\n",
    "    \n",
    "    # Get all user IDs sorted for consistent indexing\n",
    "    user_ids = sorted(data.keys())\n",
    "    \n",
    "    # Check user_number validity (user_number is 1-based)\n",
    "    if user_number < 1 or user_number > len(user_ids):\n",
    "        raise ValueError(f\"User number must be between 1 and {len(user_ids)}\")\n",
    "    \n",
    "    # Select the user ID\n",
    "    user_id = user_ids[user_number - 1]\n",
    "    user_data = data[user_id]\n",
    "    \n",
    "    # Extract only the trend for each feature\n",
    "    trends = {feature: user_data[feature]['trend'] for feature in user_data}\n",
    "    \n",
    "    # Save as compact JSON (no newlines, no spaces)\n",
    "    with open(output_path, 'w') as f:\n",
    "        json.dump(trends, f, separators=(',', ':'))\n",
    "\n",
    "    print(f\"Trends for user {user_id} saved to {output_path}\")\n",
    "\n",
    "# Example usage:\n",
    "# import json\n",
    "\n",
    "def save_user_trends(json_path, user_number, output_path):\n",
    "    # Load the full JSON data\n",
    "    with open(json_path, 'r') as f:\n",
    "        data = json.load(f)\n",
    "    \n",
    "    # Get all user IDs sorted for consistent indexing\n",
    "    user_ids = sorted(data.keys())\n",
    "    \n",
    "    # Check user_number validity (user_number is 1-based)\n",
    "    if user_number < 1 or user_number > len(user_ids):\n",
    "        raise ValueError(f\"User number must be between 1 and {len(user_ids)}\")\n",
    "    \n",
    "    # Select the user ID\n",
    "    user_id = user_ids[user_number - 1]\n",
    "    user_data = data[user_id]\n",
    "    \n",
    "    # Extract only the trend for each feature\n",
    "    trends = {feature: user_data[feature]['trend'] for feature in user_data}\n",
    "    \n",
    "    # Save as compact JSON (no newlines, no spaces)\n",
    "    with open(output_path, 'w') as f:\n",
    "        json.dump(trends, f, separators=(',', ':'))\n",
    "\n",
    "    print(f\"Trends for user {user_id} saved to {output_path}\")\n",
    "\n",
    "# Example usage:\n",
    "# save_user_trends('all_users.json', 1, 'user1_trends.json')\n",
    "\n"
   ]
  },
  {
   "cell_type": "code",
   "execution_count": 2,
   "id": "52e85e01",
   "metadata": {},
   "outputs": [
    {
     "name": "stdout",
     "output_type": "stream",
     "text": [
      "Trends for user 621e2f9167b776a240011ccb saved to user3_trends.json\n"
     ]
    }
   ],
   "source": [
    "save_user_trends('lifesnaps_trends_all_users.json', 6, 'user3_trends.json')"
   ]
  },
  {
   "cell_type": "code",
   "execution_count": null,
   "id": "9a2891bc",
   "metadata": {},
   "outputs": [],
   "source": []
  }
 ],
 "metadata": {
  "kernelspec": {
   "display_name": "Python 3",
   "language": "python",
   "name": "python3"
  },
  "language_info": {
   "codemirror_mode": {
    "name": "ipython",
    "version": 3
   },
   "file_extension": ".py",
   "mimetype": "text/x-python",
   "name": "python",
   "nbconvert_exporter": "python",
   "pygments_lexer": "ipython3",
   "version": "3.11.2"
  }
 },
 "nbformat": 4,
 "nbformat_minor": 5
}
